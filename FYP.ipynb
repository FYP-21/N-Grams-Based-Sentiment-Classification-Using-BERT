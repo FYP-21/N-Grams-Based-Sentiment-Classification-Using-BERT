{
  "nbformat": 4,
  "nbformat_minor": 0,
  "metadata": {
    "colab": {
      "name": "FYP.ipynb",
      "provenance": [],
      "collapsed_sections": [],
      "toc_visible": true
    },
    "kernelspec": {
      "name": "python3",
      "display_name": "Python 3"
    },
    "widgets": {
      "application/vnd.jupyter.widget-state+json": {
        "fb688dc2eecb457da64d96572f76992a": {
          "model_module": "@jupyter-widgets/controls",
          "model_name": "HBoxModel",
          "state": {
            "_view_name": "HBoxView",
            "_dom_classes": [],
            "_model_name": "HBoxModel",
            "_view_module": "@jupyter-widgets/controls",
            "_model_module_version": "1.5.0",
            "_view_count": null,
            "_view_module_version": "1.5.0",
            "box_style": "",
            "layout": "IPY_MODEL_59f8c7ee00df492aa295a15e91d47d0c",
            "_model_module": "@jupyter-widgets/controls",
            "children": [
              "IPY_MODEL_6a6f1ae6711c4cd3afb93e663d8dd83e",
              "IPY_MODEL_c0ea2690ba9245ba971da754ecebd2ae"
            ]
          }
        },
        "59f8c7ee00df492aa295a15e91d47d0c": {
          "model_module": "@jupyter-widgets/base",
          "model_name": "LayoutModel",
          "state": {
            "_view_name": "LayoutView",
            "grid_template_rows": null,
            "right": null,
            "justify_content": null,
            "_view_module": "@jupyter-widgets/base",
            "overflow": null,
            "_model_module_version": "1.2.0",
            "_view_count": null,
            "flex_flow": null,
            "width": null,
            "min_width": null,
            "border": null,
            "align_items": null,
            "bottom": null,
            "_model_module": "@jupyter-widgets/base",
            "top": null,
            "grid_column": null,
            "overflow_y": null,
            "overflow_x": null,
            "grid_auto_flow": null,
            "grid_area": null,
            "grid_template_columns": null,
            "flex": null,
            "_model_name": "LayoutModel",
            "justify_items": null,
            "grid_row": null,
            "max_height": null,
            "align_content": null,
            "visibility": null,
            "align_self": null,
            "height": null,
            "min_height": null,
            "padding": null,
            "grid_auto_rows": null,
            "grid_gap": null,
            "max_width": null,
            "order": null,
            "_view_module_version": "1.2.0",
            "grid_template_areas": null,
            "object_position": null,
            "object_fit": null,
            "grid_auto_columns": null,
            "margin": null,
            "display": null,
            "left": null
          }
        },
        "6a6f1ae6711c4cd3afb93e663d8dd83e": {
          "model_module": "@jupyter-widgets/controls",
          "model_name": "FloatProgressModel",
          "state": {
            "_view_name": "ProgressView",
            "style": "IPY_MODEL_758506f5ddc94da6a780979b7e417f6f",
            "_dom_classes": [],
            "description": "Downloading: 100%",
            "_model_name": "FloatProgressModel",
            "bar_style": "success",
            "max": 231508,
            "_view_module": "@jupyter-widgets/controls",
            "_model_module_version": "1.5.0",
            "value": 231508,
            "_view_count": null,
            "_view_module_version": "1.5.0",
            "orientation": "horizontal",
            "min": 0,
            "description_tooltip": null,
            "_model_module": "@jupyter-widgets/controls",
            "layout": "IPY_MODEL_7267746c9d8e41d880d49f139f28971e"
          }
        },
        "c0ea2690ba9245ba971da754ecebd2ae": {
          "model_module": "@jupyter-widgets/controls",
          "model_name": "HTMLModel",
          "state": {
            "_view_name": "HTMLView",
            "style": "IPY_MODEL_0efc8cddcbd94e5aa09e35d66a16c31d",
            "_dom_classes": [],
            "description": "",
            "_model_name": "HTMLModel",
            "placeholder": "​",
            "_view_module": "@jupyter-widgets/controls",
            "_model_module_version": "1.5.0",
            "value": " 232k/232k [00:00&lt;00:00, 299kB/s]",
            "_view_count": null,
            "_view_module_version": "1.5.0",
            "description_tooltip": null,
            "_model_module": "@jupyter-widgets/controls",
            "layout": "IPY_MODEL_3d27a86d1fae4c6d8a25a3c53139b77d"
          }
        },
        "758506f5ddc94da6a780979b7e417f6f": {
          "model_module": "@jupyter-widgets/controls",
          "model_name": "ProgressStyleModel",
          "state": {
            "_view_name": "StyleView",
            "_model_name": "ProgressStyleModel",
            "description_width": "initial",
            "_view_module": "@jupyter-widgets/base",
            "_model_module_version": "1.5.0",
            "_view_count": null,
            "_view_module_version": "1.2.0",
            "bar_color": null,
            "_model_module": "@jupyter-widgets/controls"
          }
        },
        "7267746c9d8e41d880d49f139f28971e": {
          "model_module": "@jupyter-widgets/base",
          "model_name": "LayoutModel",
          "state": {
            "_view_name": "LayoutView",
            "grid_template_rows": null,
            "right": null,
            "justify_content": null,
            "_view_module": "@jupyter-widgets/base",
            "overflow": null,
            "_model_module_version": "1.2.0",
            "_view_count": null,
            "flex_flow": null,
            "width": null,
            "min_width": null,
            "border": null,
            "align_items": null,
            "bottom": null,
            "_model_module": "@jupyter-widgets/base",
            "top": null,
            "grid_column": null,
            "overflow_y": null,
            "overflow_x": null,
            "grid_auto_flow": null,
            "grid_area": null,
            "grid_template_columns": null,
            "flex": null,
            "_model_name": "LayoutModel",
            "justify_items": null,
            "grid_row": null,
            "max_height": null,
            "align_content": null,
            "visibility": null,
            "align_self": null,
            "height": null,
            "min_height": null,
            "padding": null,
            "grid_auto_rows": null,
            "grid_gap": null,
            "max_width": null,
            "order": null,
            "_view_module_version": "1.2.0",
            "grid_template_areas": null,
            "object_position": null,
            "object_fit": null,
            "grid_auto_columns": null,
            "margin": null,
            "display": null,
            "left": null
          }
        },
        "0efc8cddcbd94e5aa09e35d66a16c31d": {
          "model_module": "@jupyter-widgets/controls",
          "model_name": "DescriptionStyleModel",
          "state": {
            "_view_name": "StyleView",
            "_model_name": "DescriptionStyleModel",
            "description_width": "",
            "_view_module": "@jupyter-widgets/base",
            "_model_module_version": "1.5.0",
            "_view_count": null,
            "_view_module_version": "1.2.0",
            "_model_module": "@jupyter-widgets/controls"
          }
        },
        "3d27a86d1fae4c6d8a25a3c53139b77d": {
          "model_module": "@jupyter-widgets/base",
          "model_name": "LayoutModel",
          "state": {
            "_view_name": "LayoutView",
            "grid_template_rows": null,
            "right": null,
            "justify_content": null,
            "_view_module": "@jupyter-widgets/base",
            "overflow": null,
            "_model_module_version": "1.2.0",
            "_view_count": null,
            "flex_flow": null,
            "width": null,
            "min_width": null,
            "border": null,
            "align_items": null,
            "bottom": null,
            "_model_module": "@jupyter-widgets/base",
            "top": null,
            "grid_column": null,
            "overflow_y": null,
            "overflow_x": null,
            "grid_auto_flow": null,
            "grid_area": null,
            "grid_template_columns": null,
            "flex": null,
            "_model_name": "LayoutModel",
            "justify_items": null,
            "grid_row": null,
            "max_height": null,
            "align_content": null,
            "visibility": null,
            "align_self": null,
            "height": null,
            "min_height": null,
            "padding": null,
            "grid_auto_rows": null,
            "grid_gap": null,
            "max_width": null,
            "order": null,
            "_view_module_version": "1.2.0",
            "grid_template_areas": null,
            "object_position": null,
            "object_fit": null,
            "grid_auto_columns": null,
            "margin": null,
            "display": null,
            "left": null
          }
        },
        "a31adea9da36489cb00dd10e02dd6442": {
          "model_module": "@jupyter-widgets/controls",
          "model_name": "HBoxModel",
          "state": {
            "_view_name": "HBoxView",
            "_dom_classes": [],
            "_model_name": "HBoxModel",
            "_view_module": "@jupyter-widgets/controls",
            "_model_module_version": "1.5.0",
            "_view_count": null,
            "_view_module_version": "1.5.0",
            "box_style": "",
            "layout": "IPY_MODEL_de7918349acf439a81692c45bf58fc8d",
            "_model_module": "@jupyter-widgets/controls",
            "children": [
              "IPY_MODEL_d888ae2f82614f868353c5431df9b1f4",
              "IPY_MODEL_99d47c75ed9e432dbd7e5fe5bbcb4ed5"
            ]
          }
        },
        "de7918349acf439a81692c45bf58fc8d": {
          "model_module": "@jupyter-widgets/base",
          "model_name": "LayoutModel",
          "state": {
            "_view_name": "LayoutView",
            "grid_template_rows": null,
            "right": null,
            "justify_content": null,
            "_view_module": "@jupyter-widgets/base",
            "overflow": null,
            "_model_module_version": "1.2.0",
            "_view_count": null,
            "flex_flow": null,
            "width": null,
            "min_width": null,
            "border": null,
            "align_items": null,
            "bottom": null,
            "_model_module": "@jupyter-widgets/base",
            "top": null,
            "grid_column": null,
            "overflow_y": null,
            "overflow_x": null,
            "grid_auto_flow": null,
            "grid_area": null,
            "grid_template_columns": null,
            "flex": null,
            "_model_name": "LayoutModel",
            "justify_items": null,
            "grid_row": null,
            "max_height": null,
            "align_content": null,
            "visibility": null,
            "align_self": null,
            "height": null,
            "min_height": null,
            "padding": null,
            "grid_auto_rows": null,
            "grid_gap": null,
            "max_width": null,
            "order": null,
            "_view_module_version": "1.2.0",
            "grid_template_areas": null,
            "object_position": null,
            "object_fit": null,
            "grid_auto_columns": null,
            "margin": null,
            "display": null,
            "left": null
          }
        },
        "d888ae2f82614f868353c5431df9b1f4": {
          "model_module": "@jupyter-widgets/controls",
          "model_name": "FloatProgressModel",
          "state": {
            "_view_name": "ProgressView",
            "style": "IPY_MODEL_98a2e2a8253a4fa29813211507000ad9",
            "_dom_classes": [],
            "description": "Downloading: 100%",
            "_model_name": "FloatProgressModel",
            "bar_style": "success",
            "max": 433,
            "_view_module": "@jupyter-widgets/controls",
            "_model_module_version": "1.5.0",
            "value": 433,
            "_view_count": null,
            "_view_module_version": "1.5.0",
            "orientation": "horizontal",
            "min": 0,
            "description_tooltip": null,
            "_model_module": "@jupyter-widgets/controls",
            "layout": "IPY_MODEL_d73e4922f22241fd9183cc29eb43b525"
          }
        },
        "99d47c75ed9e432dbd7e5fe5bbcb4ed5": {
          "model_module": "@jupyter-widgets/controls",
          "model_name": "HTMLModel",
          "state": {
            "_view_name": "HTMLView",
            "style": "IPY_MODEL_8c16176056bc4fc5becf91053a7efd46",
            "_dom_classes": [],
            "description": "",
            "_model_name": "HTMLModel",
            "placeholder": "​",
            "_view_module": "@jupyter-widgets/controls",
            "_model_module_version": "1.5.0",
            "value": " 433/433 [00:01&lt;00:00, 358B/s]",
            "_view_count": null,
            "_view_module_version": "1.5.0",
            "description_tooltip": null,
            "_model_module": "@jupyter-widgets/controls",
            "layout": "IPY_MODEL_c2dae7d63dd74848821330552349e899"
          }
        },
        "98a2e2a8253a4fa29813211507000ad9": {
          "model_module": "@jupyter-widgets/controls",
          "model_name": "ProgressStyleModel",
          "state": {
            "_view_name": "StyleView",
            "_model_name": "ProgressStyleModel",
            "description_width": "initial",
            "_view_module": "@jupyter-widgets/base",
            "_model_module_version": "1.5.0",
            "_view_count": null,
            "_view_module_version": "1.2.0",
            "bar_color": null,
            "_model_module": "@jupyter-widgets/controls"
          }
        },
        "d73e4922f22241fd9183cc29eb43b525": {
          "model_module": "@jupyter-widgets/base",
          "model_name": "LayoutModel",
          "state": {
            "_view_name": "LayoutView",
            "grid_template_rows": null,
            "right": null,
            "justify_content": null,
            "_view_module": "@jupyter-widgets/base",
            "overflow": null,
            "_model_module_version": "1.2.0",
            "_view_count": null,
            "flex_flow": null,
            "width": null,
            "min_width": null,
            "border": null,
            "align_items": null,
            "bottom": null,
            "_model_module": "@jupyter-widgets/base",
            "top": null,
            "grid_column": null,
            "overflow_y": null,
            "overflow_x": null,
            "grid_auto_flow": null,
            "grid_area": null,
            "grid_template_columns": null,
            "flex": null,
            "_model_name": "LayoutModel",
            "justify_items": null,
            "grid_row": null,
            "max_height": null,
            "align_content": null,
            "visibility": null,
            "align_self": null,
            "height": null,
            "min_height": null,
            "padding": null,
            "grid_auto_rows": null,
            "grid_gap": null,
            "max_width": null,
            "order": null,
            "_view_module_version": "1.2.0",
            "grid_template_areas": null,
            "object_position": null,
            "object_fit": null,
            "grid_auto_columns": null,
            "margin": null,
            "display": null,
            "left": null
          }
        },
        "8c16176056bc4fc5becf91053a7efd46": {
          "model_module": "@jupyter-widgets/controls",
          "model_name": "DescriptionStyleModel",
          "state": {
            "_view_name": "StyleView",
            "_model_name": "DescriptionStyleModel",
            "description_width": "",
            "_view_module": "@jupyter-widgets/base",
            "_model_module_version": "1.5.0",
            "_view_count": null,
            "_view_module_version": "1.2.0",
            "_model_module": "@jupyter-widgets/controls"
          }
        },
        "c2dae7d63dd74848821330552349e899": {
          "model_module": "@jupyter-widgets/base",
          "model_name": "LayoutModel",
          "state": {
            "_view_name": "LayoutView",
            "grid_template_rows": null,
            "right": null,
            "justify_content": null,
            "_view_module": "@jupyter-widgets/base",
            "overflow": null,
            "_model_module_version": "1.2.0",
            "_view_count": null,
            "flex_flow": null,
            "width": null,
            "min_width": null,
            "border": null,
            "align_items": null,
            "bottom": null,
            "_model_module": "@jupyter-widgets/base",
            "top": null,
            "grid_column": null,
            "overflow_y": null,
            "overflow_x": null,
            "grid_auto_flow": null,
            "grid_area": null,
            "grid_template_columns": null,
            "flex": null,
            "_model_name": "LayoutModel",
            "justify_items": null,
            "grid_row": null,
            "max_height": null,
            "align_content": null,
            "visibility": null,
            "align_self": null,
            "height": null,
            "min_height": null,
            "padding": null,
            "grid_auto_rows": null,
            "grid_gap": null,
            "max_width": null,
            "order": null,
            "_view_module_version": "1.2.0",
            "grid_template_areas": null,
            "object_position": null,
            "object_fit": null,
            "grid_auto_columns": null,
            "margin": null,
            "display": null,
            "left": null
          }
        },
        "ec18cf0d65ec4e98892ae1f9215a4390": {
          "model_module": "@jupyter-widgets/controls",
          "model_name": "HBoxModel",
          "state": {
            "_view_name": "HBoxView",
            "_dom_classes": [],
            "_model_name": "HBoxModel",
            "_view_module": "@jupyter-widgets/controls",
            "_model_module_version": "1.5.0",
            "_view_count": null,
            "_view_module_version": "1.5.0",
            "box_style": "",
            "layout": "IPY_MODEL_42cb6996486b41ffaa950c58d841719e",
            "_model_module": "@jupyter-widgets/controls",
            "children": [
              "IPY_MODEL_3fbb3bfa672b4603884e8e066ffca20c",
              "IPY_MODEL_5a859ad2e4c143ba892a12a857c9be1f"
            ]
          }
        },
        "42cb6996486b41ffaa950c58d841719e": {
          "model_module": "@jupyter-widgets/base",
          "model_name": "LayoutModel",
          "state": {
            "_view_name": "LayoutView",
            "grid_template_rows": null,
            "right": null,
            "justify_content": null,
            "_view_module": "@jupyter-widgets/base",
            "overflow": null,
            "_model_module_version": "1.2.0",
            "_view_count": null,
            "flex_flow": null,
            "width": null,
            "min_width": null,
            "border": null,
            "align_items": null,
            "bottom": null,
            "_model_module": "@jupyter-widgets/base",
            "top": null,
            "grid_column": null,
            "overflow_y": null,
            "overflow_x": null,
            "grid_auto_flow": null,
            "grid_area": null,
            "grid_template_columns": null,
            "flex": null,
            "_model_name": "LayoutModel",
            "justify_items": null,
            "grid_row": null,
            "max_height": null,
            "align_content": null,
            "visibility": null,
            "align_self": null,
            "height": null,
            "min_height": null,
            "padding": null,
            "grid_auto_rows": null,
            "grid_gap": null,
            "max_width": null,
            "order": null,
            "_view_module_version": "1.2.0",
            "grid_template_areas": null,
            "object_position": null,
            "object_fit": null,
            "grid_auto_columns": null,
            "margin": null,
            "display": null,
            "left": null
          }
        },
        "3fbb3bfa672b4603884e8e066ffca20c": {
          "model_module": "@jupyter-widgets/controls",
          "model_name": "FloatProgressModel",
          "state": {
            "_view_name": "ProgressView",
            "style": "IPY_MODEL_7c7f686377a24086b08d709fe7982dde",
            "_dom_classes": [],
            "description": "Downloading: 100%",
            "_model_name": "FloatProgressModel",
            "bar_style": "success",
            "max": 440473133,
            "_view_module": "@jupyter-widgets/controls",
            "_model_module_version": "1.5.0",
            "value": 440473133,
            "_view_count": null,
            "_view_module_version": "1.5.0",
            "orientation": "horizontal",
            "min": 0,
            "description_tooltip": null,
            "_model_module": "@jupyter-widgets/controls",
            "layout": "IPY_MODEL_5cecf33fac554369bac4828f101da156"
          }
        },
        "5a859ad2e4c143ba892a12a857c9be1f": {
          "model_module": "@jupyter-widgets/controls",
          "model_name": "HTMLModel",
          "state": {
            "_view_name": "HTMLView",
            "style": "IPY_MODEL_d0717239604f43ad9ce90bad44684bfc",
            "_dom_classes": [],
            "description": "",
            "_model_name": "HTMLModel",
            "placeholder": "​",
            "_view_module": "@jupyter-widgets/controls",
            "_model_module_version": "1.5.0",
            "value": " 440M/440M [00:08&lt;00:00, 50.6MB/s]",
            "_view_count": null,
            "_view_module_version": "1.5.0",
            "description_tooltip": null,
            "_model_module": "@jupyter-widgets/controls",
            "layout": "IPY_MODEL_13a8727edec348e7a6719e86f0ebb545"
          }
        },
        "7c7f686377a24086b08d709fe7982dde": {
          "model_module": "@jupyter-widgets/controls",
          "model_name": "ProgressStyleModel",
          "state": {
            "_view_name": "StyleView",
            "_model_name": "ProgressStyleModel",
            "description_width": "initial",
            "_view_module": "@jupyter-widgets/base",
            "_model_module_version": "1.5.0",
            "_view_count": null,
            "_view_module_version": "1.2.0",
            "bar_color": null,
            "_model_module": "@jupyter-widgets/controls"
          }
        },
        "5cecf33fac554369bac4828f101da156": {
          "model_module": "@jupyter-widgets/base",
          "model_name": "LayoutModel",
          "state": {
            "_view_name": "LayoutView",
            "grid_template_rows": null,
            "right": null,
            "justify_content": null,
            "_view_module": "@jupyter-widgets/base",
            "overflow": null,
            "_model_module_version": "1.2.0",
            "_view_count": null,
            "flex_flow": null,
            "width": null,
            "min_width": null,
            "border": null,
            "align_items": null,
            "bottom": null,
            "_model_module": "@jupyter-widgets/base",
            "top": null,
            "grid_column": null,
            "overflow_y": null,
            "overflow_x": null,
            "grid_auto_flow": null,
            "grid_area": null,
            "grid_template_columns": null,
            "flex": null,
            "_model_name": "LayoutModel",
            "justify_items": null,
            "grid_row": null,
            "max_height": null,
            "align_content": null,
            "visibility": null,
            "align_self": null,
            "height": null,
            "min_height": null,
            "padding": null,
            "grid_auto_rows": null,
            "grid_gap": null,
            "max_width": null,
            "order": null,
            "_view_module_version": "1.2.0",
            "grid_template_areas": null,
            "object_position": null,
            "object_fit": null,
            "grid_auto_columns": null,
            "margin": null,
            "display": null,
            "left": null
          }
        },
        "d0717239604f43ad9ce90bad44684bfc": {
          "model_module": "@jupyter-widgets/controls",
          "model_name": "DescriptionStyleModel",
          "state": {
            "_view_name": "StyleView",
            "_model_name": "DescriptionStyleModel",
            "description_width": "",
            "_view_module": "@jupyter-widgets/base",
            "_model_module_version": "1.5.0",
            "_view_count": null,
            "_view_module_version": "1.2.0",
            "_model_module": "@jupyter-widgets/controls"
          }
        },
        "13a8727edec348e7a6719e86f0ebb545": {
          "model_module": "@jupyter-widgets/base",
          "model_name": "LayoutModel",
          "state": {
            "_view_name": "LayoutView",
            "grid_template_rows": null,
            "right": null,
            "justify_content": null,
            "_view_module": "@jupyter-widgets/base",
            "overflow": null,
            "_model_module_version": "1.2.0",
            "_view_count": null,
            "flex_flow": null,
            "width": null,
            "min_width": null,
            "border": null,
            "align_items": null,
            "bottom": null,
            "_model_module": "@jupyter-widgets/base",
            "top": null,
            "grid_column": null,
            "overflow_y": null,
            "overflow_x": null,
            "grid_auto_flow": null,
            "grid_area": null,
            "grid_template_columns": null,
            "flex": null,
            "_model_name": "LayoutModel",
            "justify_items": null,
            "grid_row": null,
            "max_height": null,
            "align_content": null,
            "visibility": null,
            "align_self": null,
            "height": null,
            "min_height": null,
            "padding": null,
            "grid_auto_rows": null,
            "grid_gap": null,
            "max_width": null,
            "order": null,
            "_view_module_version": "1.2.0",
            "grid_template_areas": null,
            "object_position": null,
            "object_fit": null,
            "grid_auto_columns": null,
            "margin": null,
            "display": null,
            "left": null
          }
        }
      }
    }
  },
  "cells": [
    {
      "cell_type": "markdown",
      "metadata": {
        "id": "it0kG6B8zomn"
      },
      "source": [
        "#**N-Gram Based Sentiment Classification Using BERT - Phase 1**\n",
        "(For ease of testing and implementation, we will be using a test sentence in this notebook)\n",
        "\n",
        "The sentence needs to first be processed before we can convert it into a suitable format for feeding as an input for fine tuning BERT. The steps involved are:\n",
        "\n",
        "1. Tokenize using WordPiece\n",
        "4. Addition of special tokens - `[CLS]` & `[SEP]` \n",
        "2. Convert Tokens to Token IDs\n",
        "5. Convert Token ID list to N-Grams: Unigrams, Bigrams, and Trigrams\n",
        "6. Set segment embeddings"
      ]
    },
    {
      "cell_type": "markdown",
      "metadata": {
        "id": "E_VborHoKZ6N"
      },
      "source": [
        "# Setting Up\n",
        "Here, we'll import, and initialize the necessary tools for this project"
      ]
    },
    {
      "cell_type": "code",
      "metadata": {
        "id": "EfdgDGPU1cfJ",
        "outputId": "8b4f156e-0094-4ec6-9251-7661140307f9",
        "colab": {
          "base_uri": "https://localhost:8080/",
          "height": 36
        }
      },
      "source": [
        "#Let us take an example sentence to show the implementation\n",
        "sentence = \"Hello CEG! Hope this works well. Here are some GRE words : Inchoate, Persnickety, etc.\"\n",
        "sentence"
      ],
      "execution_count": 19,
      "outputs": [
        {
          "output_type": "execute_result",
          "data": {
            "application/vnd.google.colaboratory.intrinsic+json": {
              "type": "string"
            },
            "text/plain": [
              "'Hello CEG! Hope this works well. Here are some GRE words : Inchoate, Persnickety, etc.'"
            ]
          },
          "metadata": {
            "tags": []
          },
          "execution_count": 19
        }
      ]
    },
    {
      "cell_type": "code",
      "metadata": {
        "id": "uOWskan52GQ-"
      },
      "source": [
        "#Now, let's load the necessary libraries\n",
        "from transformers import BertTokenizer, BertModel\n",
        "from nltk.util import ngrams\n",
        "import re, collections, torch, string"
      ],
      "execution_count": 40,
      "outputs": []
    },
    {
      "cell_type": "code",
      "metadata": {
        "id": "k-PtvR1-22qe",
        "outputId": "54d43ab2-86b8-45a6-8210-64dd3594a900",
        "colab": {
          "base_uri": "https://localhost:8080/",
          "height": 168,
          "referenced_widgets": [
            "fb688dc2eecb457da64d96572f76992a",
            "59f8c7ee00df492aa295a15e91d47d0c",
            "6a6f1ae6711c4cd3afb93e663d8dd83e",
            "c0ea2690ba9245ba971da754ecebd2ae",
            "758506f5ddc94da6a780979b7e417f6f",
            "7267746c9d8e41d880d49f139f28971e",
            "0efc8cddcbd94e5aa09e35d66a16c31d",
            "3d27a86d1fae4c6d8a25a3c53139b77d",
            "a31adea9da36489cb00dd10e02dd6442",
            "de7918349acf439a81692c45bf58fc8d",
            "d888ae2f82614f868353c5431df9b1f4",
            "99d47c75ed9e432dbd7e5fe5bbcb4ed5",
            "98a2e2a8253a4fa29813211507000ad9",
            "d73e4922f22241fd9183cc29eb43b525",
            "8c16176056bc4fc5becf91053a7efd46",
            "c2dae7d63dd74848821330552349e899",
            "ec18cf0d65ec4e98892ae1f9215a4390",
            "42cb6996486b41ffaa950c58d841719e",
            "3fbb3bfa672b4603884e8e066ffca20c",
            "5a859ad2e4c143ba892a12a857c9be1f",
            "7c7f686377a24086b08d709fe7982dde",
            "5cecf33fac554369bac4828f101da156",
            "d0717239604f43ad9ce90bad44684bfc",
            "13a8727edec348e7a6719e86f0ebb545"
          ]
        }
      },
      "source": [
        "#And let's initialise some elements\n",
        "tokenizer = BertTokenizer.from_pretrained(\"bert-base-uncased\")\n",
        "model = BertModel.from_pretrained(\"bert-base-uncased\", output_hidden_states = True)"
      ],
      "execution_count": 6,
      "outputs": [
        {
          "output_type": "display_data",
          "data": {
            "application/vnd.jupyter.widget-view+json": {
              "model_id": "fb688dc2eecb457da64d96572f76992a",
              "version_minor": 0,
              "version_major": 2
            },
            "text/plain": [
              "HBox(children=(FloatProgress(value=0.0, description='Downloading', max=231508.0, style=ProgressStyle(descripti…"
            ]
          },
          "metadata": {
            "tags": []
          }
        },
        {
          "output_type": "stream",
          "text": [
            "\n"
          ],
          "name": "stdout"
        },
        {
          "output_type": "display_data",
          "data": {
            "application/vnd.jupyter.widget-view+json": {
              "model_id": "a31adea9da36489cb00dd10e02dd6442",
              "version_minor": 0,
              "version_major": 2
            },
            "text/plain": [
              "HBox(children=(FloatProgress(value=0.0, description='Downloading', max=433.0, style=ProgressStyle(description_…"
            ]
          },
          "metadata": {
            "tags": []
          }
        },
        {
          "output_type": "stream",
          "text": [
            "\n"
          ],
          "name": "stdout"
        },
        {
          "output_type": "display_data",
          "data": {
            "application/vnd.jupyter.widget-view+json": {
              "model_id": "ec18cf0d65ec4e98892ae1f9215a4390",
              "version_minor": 0,
              "version_major": 2
            },
            "text/plain": [
              "HBox(children=(FloatProgress(value=0.0, description='Downloading', max=440473133.0, style=ProgressStyle(descri…"
            ]
          },
          "metadata": {
            "tags": []
          }
        },
        {
          "output_type": "stream",
          "text": [
            "\n"
          ],
          "name": "stdout"
        }
      ]
    },
    {
      "cell_type": "markdown",
      "metadata": {
        "id": "mDu_4AtYKp51"
      },
      "source": [
        "# 1) Tokenize Using WordPiece\n",
        "WordPiece is the default tokenizer, and the one that is recognised by BERT. Therefore, we will be using it here."
      ]
    },
    {
      "cell_type": "code",
      "metadata": {
        "id": "qEGzE3db61JH",
        "outputId": "122bc346-0d8b-4172-832d-5706a1b1d6f7",
        "colab": {
          "base_uri": "https://localhost:8080/"
        }
      },
      "source": [
        "#Let's begin the processing\n",
        "#1, Tokenize using WordPiece. BERT Tokenizer uses WordPiece by default\n",
        "tokens = tokenizer.tokenize(sentence)\n",
        "tokens"
      ],
      "execution_count": 51,
      "outputs": [
        {
          "output_type": "execute_result",
          "data": {
            "text/plain": [
              "['hello',\n",
              " 'ce',\n",
              " '##g',\n",
              " '!',\n",
              " 'hope',\n",
              " 'this',\n",
              " 'works',\n",
              " 'well',\n",
              " '.',\n",
              " 'here',\n",
              " 'are',\n",
              " 'some',\n",
              " 'gr',\n",
              " '##e',\n",
              " 'words',\n",
              " ':',\n",
              " 'inch',\n",
              " '##oat',\n",
              " '##e',\n",
              " ',',\n",
              " 'per',\n",
              " '##s',\n",
              " '##nick',\n",
              " '##ety',\n",
              " ',',\n",
              " 'etc',\n",
              " '.']"
            ]
          },
          "metadata": {
            "tags": []
          },
          "execution_count": 51
        }
      ]
    },
    {
      "cell_type": "markdown",
      "metadata": {
        "id": "3Ic2r7c1_LB-"
      },
      "source": [
        "# 2) Adding Special Tokens\n",
        "Now we need to add some special tokens.<br><br>\n",
        "`[CLS]` token is required at the beginning of an input, to let BERT know that this input is for Classification purposes. <br><br>\n",
        "And the `[SEP]` token is added at the end of every sentence, to let BERT know that that sentence is over. However, we must use this even if our input is only one sentence."
      ]
    },
    {
      "cell_type": "code",
      "metadata": {
        "id": "WjC48LiJATIP",
        "outputId": "8b7127ff-7231-48b3-d01f-602537f83e75",
        "colab": {
          "base_uri": "https://localhost:8080/"
        }
      },
      "source": [
        "#2, Adding special tokens\n",
        "tokens.insert(0, \"[CLS]\")\n",
        "tokens.append(\"[SEP]\")\n",
        "\n",
        "print(str(tokens))"
      ],
      "execution_count": 53,
      "outputs": [
        {
          "output_type": "stream",
          "text": [
            "['[CLS]', 'hello', 'ce', '##g', '!', 'hope', 'this', 'works', 'well', '.', 'here', 'are', 'some', 'gr', '##e', 'words', ':', 'inch', '##oat', '##e', ',', 'per', '##s', '##nick', '##ety', ',', 'etc', '.', '[SEP]']\n"
          ],
          "name": "stdout"
        }
      ]
    },
    {
      "cell_type": "markdown",
      "metadata": {
        "id": "ID5Uy98iJRFW"
      },
      "source": [
        "# 3)Convert Tokens to Token IDs\n",
        "Let's convert these tokens to their respective token IDs, because BERT can only understand the language if it is in it's own vocabulary, and it will identify it only by the token ID"
      ]
    },
    {
      "cell_type": "code",
      "metadata": {
        "id": "6Nhhx1aZAyYD",
        "outputId": "2366a640-1a5e-4d50-deb2-0df415aeb11a",
        "colab": {
          "base_uri": "https://localhost:8080/"
        }
      },
      "source": [
        "#3, Convert Tokens to Token IDs\n",
        "tokenIDs = tokenizer.convert_tokens_to_ids(tokens)\n",
        "tokenIDs"
      ],
      "execution_count": 54,
      "outputs": [
        {
          "output_type": "execute_result",
          "data": {
            "text/plain": [
              "[101,\n",
              " 7592,\n",
              " 8292,\n",
              " 2290,\n",
              " 999,\n",
              " 3246,\n",
              " 2023,\n",
              " 2573,\n",
              " 2092,\n",
              " 1012,\n",
              " 2182,\n",
              " 2024,\n",
              " 2070,\n",
              " 24665,\n",
              " 2063,\n",
              " 2616,\n",
              " 1024,\n",
              " 4960,\n",
              " 16503,\n",
              " 2063,\n",
              " 1010,\n",
              " 2566,\n",
              " 2015,\n",
              " 13542,\n",
              " 27405,\n",
              " 1010,\n",
              " 4385,\n",
              " 1012,\n",
              " 102]"
            ]
          },
          "metadata": {
            "tags": []
          },
          "execution_count": 54
        }
      ]
    },
    {
      "cell_type": "markdown",
      "metadata": {
        "id": "InwhD1yRJmBn"
      },
      "source": [
        "# 4) Create N-Grams\n",
        "From this list of Token IDs, we will be creating Unigrams, Bigrams, and Trigrams for future analysis"
      ]
    },
    {
      "cell_type": "code",
      "metadata": {
        "id": "irfpOBVj76jM",
        "outputId": "6dfd576b-fd8b-4bf0-cdbd-09b4e608aeb5",
        "colab": {
          "base_uri": "https://localhost:8080/"
        }
      },
      "source": [
        "#4,a, Creating Unigrams\n",
        "unigrams = list(ngrams(tokenIDs, 1))\n",
        "unigrams"
      ],
      "execution_count": 55,
      "outputs": [
        {
          "output_type": "execute_result",
          "data": {
            "text/plain": [
              "[(101,),\n",
              " (7592,),\n",
              " (8292,),\n",
              " (2290,),\n",
              " (999,),\n",
              " (3246,),\n",
              " (2023,),\n",
              " (2573,),\n",
              " (2092,),\n",
              " (1012,),\n",
              " (2182,),\n",
              " (2024,),\n",
              " (2070,),\n",
              " (24665,),\n",
              " (2063,),\n",
              " (2616,),\n",
              " (1024,),\n",
              " (4960,),\n",
              " (16503,),\n",
              " (2063,),\n",
              " (1010,),\n",
              " (2566,),\n",
              " (2015,),\n",
              " (13542,),\n",
              " (27405,),\n",
              " (1010,),\n",
              " (4385,),\n",
              " (1012,),\n",
              " (102,)]"
            ]
          },
          "metadata": {
            "tags": []
          },
          "execution_count": 55
        }
      ]
    },
    {
      "cell_type": "code",
      "metadata": {
        "id": "sNGgWzyb80Vl",
        "outputId": "fcdab01c-a0f4-475b-df7b-fa1a40e86732",
        "colab": {
          "base_uri": "https://localhost:8080/"
        }
      },
      "source": [
        "#4,b, Creating Bigrams\n",
        "bigrams = list(ngrams(tokenIDs, 2))\n",
        "bigrams"
      ],
      "execution_count": 56,
      "outputs": [
        {
          "output_type": "execute_result",
          "data": {
            "text/plain": [
              "[(101, 7592),\n",
              " (7592, 8292),\n",
              " (8292, 2290),\n",
              " (2290, 999),\n",
              " (999, 3246),\n",
              " (3246, 2023),\n",
              " (2023, 2573),\n",
              " (2573, 2092),\n",
              " (2092, 1012),\n",
              " (1012, 2182),\n",
              " (2182, 2024),\n",
              " (2024, 2070),\n",
              " (2070, 24665),\n",
              " (24665, 2063),\n",
              " (2063, 2616),\n",
              " (2616, 1024),\n",
              " (1024, 4960),\n",
              " (4960, 16503),\n",
              " (16503, 2063),\n",
              " (2063, 1010),\n",
              " (1010, 2566),\n",
              " (2566, 2015),\n",
              " (2015, 13542),\n",
              " (13542, 27405),\n",
              " (27405, 1010),\n",
              " (1010, 4385),\n",
              " (4385, 1012),\n",
              " (1012, 102)]"
            ]
          },
          "metadata": {
            "tags": []
          },
          "execution_count": 56
        }
      ]
    },
    {
      "cell_type": "code",
      "metadata": {
        "id": "mlLIHnVW-L-Y",
        "outputId": "0ecbc992-4cab-4765-9045-c2102a844603",
        "colab": {
          "base_uri": "https://localhost:8080/"
        }
      },
      "source": [
        "#4,c, Creating Trigrams\n",
        "trigrams = list(ngrams(tokenIDs, 3))\n",
        "trigrams"
      ],
      "execution_count": 57,
      "outputs": [
        {
          "output_type": "execute_result",
          "data": {
            "text/plain": [
              "[(101, 7592, 8292),\n",
              " (7592, 8292, 2290),\n",
              " (8292, 2290, 999),\n",
              " (2290, 999, 3246),\n",
              " (999, 3246, 2023),\n",
              " (3246, 2023, 2573),\n",
              " (2023, 2573, 2092),\n",
              " (2573, 2092, 1012),\n",
              " (2092, 1012, 2182),\n",
              " (1012, 2182, 2024),\n",
              " (2182, 2024, 2070),\n",
              " (2024, 2070, 24665),\n",
              " (2070, 24665, 2063),\n",
              " (24665, 2063, 2616),\n",
              " (2063, 2616, 1024),\n",
              " (2616, 1024, 4960),\n",
              " (1024, 4960, 16503),\n",
              " (4960, 16503, 2063),\n",
              " (16503, 2063, 1010),\n",
              " (2063, 1010, 2566),\n",
              " (1010, 2566, 2015),\n",
              " (2566, 2015, 13542),\n",
              " (2015, 13542, 27405),\n",
              " (13542, 27405, 1010),\n",
              " (27405, 1010, 4385),\n",
              " (1010, 4385, 1012),\n",
              " (4385, 1012, 102)]"
            ]
          },
          "metadata": {
            "tags": []
          },
          "execution_count": 57
        }
      ]
    },
    {
      "cell_type": "markdown",
      "metadata": {
        "id": "LCJnS9x2DKFK"
      },
      "source": [
        "As we can see, each N-Gram is considered as one token.<br>"
      ]
    },
    {
      "cell_type": "markdown",
      "metadata": {
        "id": "dLwqv4VcLo--"
      },
      "source": [
        "# 5) Setting Segment IDs\n",
        "Segments IDs let BERT know which sentence a particular token belongs to. This is necessary when using BERT for question answer, or other similar projects.\n",
        "\n",
        "In our case, since we will be using BERT for sentiment classification, our inputs will only be single sentences. Hence, the segment IDs will all be 1"
      ]
    },
    {
      "cell_type": "code",
      "metadata": {
        "id": "J_8TQHeGMEyK",
        "outputId": "4f833593-7a8e-4bf8-8341-59ae0ed93078",
        "colab": {
          "base_uri": "https://localhost:8080/"
        }
      },
      "source": [
        "unigramSegmentIDs = [1] * len(unigrams)\n",
        "bigramSegmentIDs = [1] * len(bigrams)\n",
        "trigramSegmentIDs = [1] * len(trigrams)\n",
        "segmentIDs = [1] * len(tokenIDs)\n",
        "\n",
        "print(str(unigramSegmentIDs))\n",
        "print(str(bigramSegmentIDs))\n",
        "print(str(trigramSegmentIDs))"
      ],
      "execution_count": 66,
      "outputs": [
        {
          "output_type": "stream",
          "text": [
            "[1, 1, 1, 1, 1, 1, 1, 1, 1, 1, 1, 1, 1, 1, 1, 1, 1, 1, 1, 1, 1, 1, 1, 1, 1, 1, 1, 1, 1]\n",
            "[1, 1, 1, 1, 1, 1, 1, 1, 1, 1, 1, 1, 1, 1, 1, 1, 1, 1, 1, 1, 1, 1, 1, 1, 1, 1, 1, 1]\n",
            "[1, 1, 1, 1, 1, 1, 1, 1, 1, 1, 1, 1, 1, 1, 1, 1, 1, 1, 1, 1, 1, 1, 1, 1, 1, 1, 1]\n"
          ],
          "name": "stdout"
        }
      ]
    },
    {
      "cell_type": "markdown",
      "metadata": {
        "id": "fX7qjabiNJp9"
      },
      "source": [
        "# **Extract Hidden States**\n",
        "The input sentence has been converted to tokenID N-Grams, but we our work still isn't completed. We need to convert these to a vector which will be the final input for the BERT model.\n",
        "\n",
        "However, to create that, we need the features from the hidden layers of the BERT model, that we initialised earlier, which will give us unique values based on our input\n",
        "\n",
        "Before we do that, we need to convert the list of IDs and Segment IDs to tensors"
      ]
    },
    {
      "cell_type": "code",
      "metadata": {
        "id": "g4rEt05uOXdu"
      },
      "source": [
        "#Convert to tensors\n",
        "unigramsTensor = torch.tensor([unigrams])\n",
        "bigramsTensor = torch.tensor([bigrams])\n",
        "trigramsTensor = torch.tensor([trigrams])\n",
        "\n",
        "unigramsTensor = torch.squeeze(unigramsTensor, dim=2)\n",
        "#bigramsTensor = torch.squeeze(bigramsTensor, dim=2)\n",
        "bigramsTensor.resize_((1,len(bigrams)))\n",
        "#trigramsTensor = torch.squeeze(trigramsTensor, dim=2)\n",
        "trigramsTensor.resize_((1,len(trigrams)))"
      ],
      "execution_count": null,
      "outputs": []
    },
    {
      "cell_type": "code",
      "metadata": {
        "id": "SzILPdWlQXKD"
      },
      "source": [
        "unigramSegmentTensor = torch.tensor([unigramSegmentIDs])\n",
        "bigramSegmentTensor = torch.tensor([bigramSegmentIDs])\n",
        "trigramSegmentTensor = torch.tensor([trigramSegmentIDs])"
      ],
      "execution_count": 79,
      "outputs": []
    },
    {
      "cell_type": "markdown",
      "metadata": {
        "id": "_Hh4_EYlPsNj"
      },
      "source": [
        "Now we can proceed to get to get the hidden features"
      ]
    },
    {
      "cell_type": "code",
      "metadata": {
        "id": "Wz_feIjXPdeY"
      },
      "source": [
        "model.eval()\n",
        "with torch.no_grad():\n",
        "  unigram_output = model(unigramsTensor, unigramSegmentTensor) #This is an output, which contains the hidden states\n",
        "  bigram_output = model(bigramsTensor, bigramSegmentTensor)\n",
        "  trigram_output = model(trigramsTensor, trigramSegmentTensor)\n",
        "unigram_hidden_states = unigram_output[2]\n",
        "bigram_hidden_states = bigram_output[2]\n",
        "trigram_hidden_states = trigram_output[2]"
      ],
      "execution_count": 114,
      "outputs": []
    },
    {
      "cell_type": "markdown",
      "metadata": {
        "id": "o6kextgwk8EM"
      },
      "source": [
        "The size of the hidden states tensor:"
      ]
    },
    {
      "cell_type": "code",
      "metadata": {
        "id": "GUTqdk1klApk",
        "outputId": "b5812802-4a0a-4c79-f537-d1e4fb331cf2",
        "colab": {
          "base_uri": "https://localhost:8080/"
        }
      },
      "source": [
        "print(str(len(unigram_hidden_states)) + \"*\" +  str(len(unigram_hidden_states[0])) + \"*\" +  str(len(unigram_hidden_states[0][0])) + \"*\" + str(len(unigram_hidden_states[0][0][0])))"
      ],
      "execution_count": 129,
      "outputs": [
        {
          "output_type": "stream",
          "text": [
            "13*1*29*768\n"
          ],
          "name": "stdout"
        }
      ]
    },
    {
      "cell_type": "markdown",
      "metadata": {
        "id": "2E07dV14l3vi"
      },
      "source": [
        "And an example of one layer of the hidden state:"
      ]
    },
    {
      "cell_type": "code",
      "metadata": {
        "id": "9BqkumY6l8Hx",
        "outputId": "0065d6cc-92eb-4378-cbb7-edc38e2e8fdf",
        "colab": {
          "base_uri": "https://localhost:8080/"
        }
      },
      "source": [
        "print(unigram_hidden_states[0])"
      ],
      "execution_count": 130,
      "outputs": [
        {
          "output_type": "stream",
          "text": [
            "tensor([[[ 0.1686, -0.2858, -0.3261,  ..., -0.0276,  0.0383,  0.1640],\n",
            "         [ 0.3739, -0.0156, -0.2456,  ..., -0.0317,  0.5514, -0.5241],\n",
            "         [ 0.1955,  0.6688,  0.1070,  ..., -1.0646,  0.3803,  0.2733],\n",
            "         ...,\n",
            "         [-0.1432, -0.0014,  0.1065,  ..., -0.2403,  1.3350, -0.2301],\n",
            "         [-0.4147,  0.3854, -0.0560,  ...,  0.0517,  0.5977,  0.4596],\n",
            "         [-0.4342,  0.1415,  0.2393,  ..., -0.4481, -0.0569, -0.2665]]])\n"
          ],
          "name": "stdout"
        }
      ]
    },
    {
      "cell_type": "markdown",
      "metadata": {
        "id": "-aBpr7aAexTV"
      },
      "source": [
        "# Creating Input Vectors from Hidden Features\n",
        "What we extracted from the BERT Model, is the hidden states, which is a tuple of dimensions `13 * 1 * x * 768`, where `x` is the number of tokens.\n",
        "\n",
        "The first dimension, 13 is the Input Embeddings and the 12 hidden states.\n",
        "\n",
        "The second dimension is the number of batches, or segments. In this case, is only 1, because it is only 1 sentence.\n",
        "\n",
        "The fourth dimension is the number of hidden features, which, for BERT Base, is 768.\n",
        "\n",
        "Now, we need to convert this, into a single, tensor:"
      ]
    },
    {
      "cell_type": "code",
      "metadata": {
        "id": "UQ_9_aDlgpBN"
      },
      "source": [
        "unigramTokenEmbeddings = torch.stack(unigram_hidden_states, dim=0)\n",
        "bigramTokenEmbeddings = torch.stack(bigram_hidden_states, dim=0)\n",
        "trigramTokenEmbeddings = torch.stack(trigram_hidden_states, dim=0)"
      ],
      "execution_count": 115,
      "outputs": []
    },
    {
      "cell_type": "code",
      "metadata": {
        "id": "4XON8i1thaZG",
        "outputId": "a1f72fcc-ddf4-4964-8113-740ba56d9e13",
        "colab": {
          "base_uri": "https://localhost:8080/"
        }
      },
      "source": [
        "print(unigramTokenEmbeddings.size())"
      ],
      "execution_count": 116,
      "outputs": [
        {
          "output_type": "stream",
          "text": [
            "torch.Size([13, 1, 29, 768])\n"
          ],
          "name": "stdout"
        }
      ]
    },
    {
      "cell_type": "markdown",
      "metadata": {
        "id": "ql-2Qywsg9B5"
      },
      "source": [
        "We don't need the Batch dimension, since it is only 1, so we will remove that"
      ]
    },
    {
      "cell_type": "code",
      "metadata": {
        "id": "o5KE6dMsg7JG"
      },
      "source": [
        "unigramTokenEmbeddings = torch.squeeze(unigramTokenEmbeddings, dim=1)\n",
        "bigramTokenEmbeddings = torch.squeeze(bigramTokenEmbeddings, dim=1)\n",
        "trigramTokenEmbeddings = torch.squeeze(trigramTokenEmbeddings, dim=1)"
      ],
      "execution_count": 117,
      "outputs": []
    },
    {
      "cell_type": "code",
      "metadata": {
        "id": "EeanyvZyhQne",
        "outputId": "766406f9-15ab-4855-8439-9ed51a4e674b",
        "colab": {
          "base_uri": "https://localhost:8080/"
        }
      },
      "source": [
        "print(unigramTokenEmbeddings.size())"
      ],
      "execution_count": 118,
      "outputs": [
        {
          "output_type": "stream",
          "text": [
            "torch.Size([13, 29, 768])\n"
          ],
          "name": "stdout"
        }
      ]
    },
    {
      "cell_type": "markdown",
      "metadata": {
        "id": "gJ-HyZnohmYx"
      },
      "source": [
        "Let's interchange the layer and token dimensions, as we want to calculate the vector for tokens"
      ]
    },
    {
      "cell_type": "code",
      "metadata": {
        "id": "3WQA4UIJhUKd"
      },
      "source": [
        "unigramTokenEmbeddings = unigramTokenEmbeddings.permute(1, 0, 2)\n",
        "bigramTokenEmbeddings = bigramTokenEmbeddings.permute(1, 0, 2)\n",
        "trigramTokenEmbeddings = trigramTokenEmbeddings.permute(1, 0, 2)"
      ],
      "execution_count": 119,
      "outputs": []
    },
    {
      "cell_type": "code",
      "metadata": {
        "id": "EXY2f4v9iA_1",
        "outputId": "62ec0572-c392-43ad-dafe-8a5e373bd28a",
        "colab": {
          "base_uri": "https://localhost:8080/"
        }
      },
      "source": [
        "print(unigramTokenEmbeddings.size())"
      ],
      "execution_count": 120,
      "outputs": [
        {
          "output_type": "stream",
          "text": [
            "torch.Size([29, 13, 768])\n"
          ],
          "name": "stdout"
        }
      ]
    },
    {
      "cell_type": "markdown",
      "metadata": {
        "id": "MTVXIJThi4Xz"
      },
      "source": [
        "Now that we have the hidden features, we can create the Vectors.\n",
        "\n",
        "We do this, by concatenating the last 4 layers of each token's hidden states, therefore, each token will have 4*768 elements in the vector"
      ]
    },
    {
      "cell_type": "code",
      "metadata": {
        "id": "vffL6FmZiDR7"
      },
      "source": [
        "unigramVector = []\n",
        "bigramVector = []\n",
        "trigramVector = []\n",
        "\n",
        "for token in unigramTokenEmbeddings:\n",
        "  vec = torch.cat((token[-1], token[-2], token[-3], token[-4]), dim=0)\n",
        "  unigramVector.append(vec)\n",
        "\n",
        "for token in bigramTokenEmbeddings:\n",
        "  vec = torch.cat((token[-1], token[-2], token[-3], token[-4]), dim=0)\n",
        "  bigramVector.append(vec)\n",
        "\n",
        "for token in trigramTokenEmbeddings:\n",
        "  vec = torch.cat((token[-1], token[-2], token[-3], token[-4]), dim=0)\n",
        "  trigramVector.append(vec)"
      ],
      "execution_count": 121,
      "outputs": []
    },
    {
      "cell_type": "markdown",
      "metadata": {
        "id": "opC5l7pBkXbi"
      },
      "source": [
        "Here is a sample of Token Vector, and the size of each vector"
      ]
    },
    {
      "cell_type": "code",
      "metadata": {
        "id": "usiKFf_8kFB9",
        "outputId": "54b1d5a7-1a93-483d-bb4a-4424e0316e86",
        "colab": {
          "base_uri": "https://localhost:8080/"
        }
      },
      "source": [
        "print(bigramVector[0])\n",
        "print(len(bigramVector[0]))"
      ],
      "execution_count": 126,
      "outputs": [
        {
          "output_type": "stream",
          "text": [
            "tensor([ 0.4960,  0.2156,  0.2596,  ..., -0.2427, -0.3104,  0.2826])\n",
            "3072\n"
          ],
          "name": "stdout"
        }
      ]
    }
  ]
}